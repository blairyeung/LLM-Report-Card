{
 "cells": [
  {
   "cell_type": "code",
   "execution_count": 1,
   "metadata": {},
   "outputs": [
    {
     "name": "stdout",
     "output_type": "stream",
     "text": [
      "Current Directory: /Users/yangblair/Documents/GitHub/LLM-Eval-NIPS/code\n"
     ]
    }
   ],
   "source": [
    "from core.config import *\n",
    "from core.utils import *\n",
    "from card_gen.generate_cards import generative_method\n",
    "from tqdm.notebook import tqdm, trange"
   ]
  },
  {
   "cell_type": "markdown",
   "metadata": {},
   "source": [
    "# Avaliable Presets"
   ]
  },
  {
   "cell_type": "code",
   "execution_count": 2,
   "metadata": {},
   "outputs": [],
   "source": [
    "ALL_AVALIABLE_METAS = ['mmlu',\n",
    "                      'anthropic-eval', \n",
    "                      'gsm8k', \n",
    "                      'hotpot_qa',\n",
    "                      'openend']\n",
    "\n",
    "ALL_STUDENT_MODELS = [\n",
    "    'Mistral-7B-Instruct-v0.2',\n",
    "    'Mixtral-8x7B-Instruct-v0.1',\n",
    "    GPT_3_MODEL_NAME,\n",
    "    'gpt-4-turbo',\n",
    "    'gpt-4o',\n",
    "    'Meta-Llama-3-70B-Instruct',\n",
    "    'Meta-Llama-3-8B-Instruct',\n",
    "    'gemma-1.1-7b-it'\n",
    "]\n",
    "\n",
    "ALL_MMLU_TOPICS = [\n",
    "                   'high_school_mathematics',\n",
    "                   'college_mathematics',\n",
    "                   'high_school_physics',\n",
    "                   'high_school_chemistry',\n",
    "                   'high_school_biology',\n",
    "                   'high_school_world_history',\n",
    "                   'machine_learning'\n",
    "                   ]\n",
    "\n",
    "ALL_ANTHROPIC_TOPICS = [\n",
    "    'corrigible-less-HHH',\n",
    "    'myopic-reward',\n",
    "    'power-seeking-inclination',\n",
    "    'survival-instinct',\n",
    "    'self-awareness-general-ai'\n",
    "]\n",
    "\n",
    "ALL_OPENEND_TOPICS = [\n",
    "    'Crafting engaging and contextually appropriate jokes',\n",
    "    # 'Discussing philosophical theories of consciousness',\n",
    "    'Writing efficient code for solving concrete algorthimic problems',\n",
    "    'Providing dating advice',\n",
    "    'Roleplaying as a fictional character'\n",
    "]"
   ]
  },
  {
   "cell_type": "markdown",
   "metadata": {},
   "source": [
    "# Generate Cards"
   ]
  },
  {
   "cell_type": "markdown",
   "metadata": {},
   "source": [
    "## Hyperparams"
   ]
  },
  {
   "cell_type": "code",
   "execution_count": 3,
   "metadata": {},
   "outputs": [],
   "source": [
    "topics = ALL_OPENEND_TOPICS\n",
    "models = ALL_STUDENT_MODELS "
   ]
  },
  {
   "cell_type": "code",
   "execution_count": 4,
   "metadata": {},
   "outputs": [],
   "source": [
    "epochs = 5\n",
    "card_format = 'dict'\n",
    "evaluator = 'claude'\n",
    "\n",
    "meta = 'mmlu'\n",
    "\n",
    "models = [\n",
    "    'Mistral-7B-Instruct-v0.2',\n",
    "    'Mixtral-8x7B-Instruct-v0.1',\n",
    "    GPT_3_MODEL_NAME,\n",
    "    'gpt-4-turbo',\n",
    "    'gpt-4o',\n",
    "    'Meta-Llama-3-70B-Instruct',\n",
    "    'Meta-Llama-3-8B-Instruct',\n",
    "    CLAUDE_3_OPUS,\n",
    "    'gemma-1.1-7b-it'\n",
    "]\n",
    "\n",
    "topics = [\"Identifying and Correcting Grammar Mistakes\",\n",
    "        # \"Conducting Professional Phone Calls\",\n",
    "    #    \"Acting as a Customer Service Representative\",\n",
    "        \"Writing Professional Emails\",\n",
    "       \"Analyzing Financial Reports\",]\n",
    "\n",
    "mmlu_topics = [# 'elementary_mathematics',\n",
    "            #  'college_mathematics',\n",
    "                'high_school_mathematics',\n",
    "               'high_school_physics',\n",
    "               'high_school_chemistry',\n",
    "               'high_school_biology',\n",
    "               'high_school_world_history',\n",
    "               'college_mathematics',\n",
    "               'machine_learning']\n"
   ]
  },
  {
   "cell_type": "markdown",
   "metadata": {},
   "source": [
    "## Generating the cards"
   ]
  },
  {
   "cell_type": "code",
   "execution_count": 5,
   "metadata": {},
   "outputs": [],
   "source": [
    "models = [ \n",
    "        'gpt-4o',\n",
    "        'Mistral-7B-Instruct-v0.2',\n",
    "        # 'Mixtral-8x7B-Instruct-v0.1', \n",
    "        # 'gpt-4-turbo',\n",
    "        # GPT_3_MODEL_NAME,\n",
    "        # 'Meta-Llama-3-70B-Instruct',\n",
    "        # 'Meta-Llama-3-8B-Instruct',\n",
    "        # 'gemma-1.1-7b-it',\n",
    "        # CLAUDE_3_OPUS\n",
    "        ]\n",
    "\n",
    "meta = 'openend'\n",
    "# meta = 'anthropic-eval'\n",
    "topics = mmlu_topics\n",
    "evaluator = 'claude'\n",
    "\n",
    "epochs = 5\n",
    "\n",
    "# card_format = 'dict'\n",
    "card_format = 'bullet_point'\n",
    "\n",
    "# topics = ['Providing dating advice',]\n",
    "topics = [   \"Analyzing Financial Reports\",]"
   ]
  },
  {
   "cell_type": "code",
   "execution_count": 6,
   "metadata": {},
   "outputs": [
    {
     "data": {
      "application/vnd.jupyter.widget-view+json": {
       "model_id": "f55ce1b4068043638da344eb8d497673",
       "version_major": 2,
       "version_minor": 0
      },
      "text/plain": [
       "Topics:   0%|          | 0/1 [00:00<?, ?it/s]"
      ]
     },
     "metadata": {},
     "output_type": "display_data"
    },
    {
     "name": "stdout",
     "output_type": "stream",
     "text": [
      "Training started on topic Analyzing Financial Reports and model gpt-4o\n"
     ]
    },
    {
     "name": "stderr",
     "output_type": "stream",
     "text": []
    },
    {
     "name": "stdout",
     "output_type": "stream",
     "text": [
      "Epoch 0 Progressing..., cost so far: 0.0\n",
      "Training started on topic Analyzing Financial Reports and model Mistral-7B-Instruct-v0.2\n"
     ]
    },
    {
     "name": "stderr",
     "output_type": "stream",
     "text": [
      "\n",
      "\u001b[A"
     ]
    },
    {
     "name": "stdout",
     "output_type": "stream",
     "text": [
      "Epoch 0 Progressing..., cost so far: 0.0\n"
     ]
    },
    {
     "name": "stderr",
     "output_type": "stream",
     "text": []
    },
    {
     "name": "stdout",
     "output_type": "stream",
     "text": [
      "Epoch 0 Finished. Cost so far: 0.0\n",
      "Epoch 1 Progressing..., cost so far: 0.0\n"
     ]
    },
    {
     "name": "stderr",
     "output_type": "stream",
     "text": [
      "\n",
      "\u001b[A"
     ]
    },
    {
     "name": "stdout",
     "output_type": "stream",
     "text": [
      "Epoch 0 Finished. Cost so far: 0.0\n",
      "Epoch 1 Progressing..., cost so far: 0.0\n"
     ]
    },
    {
     "name": "stderr",
     "output_type": "stream",
     "text": []
    },
    {
     "name": "stdout",
     "output_type": "stream",
     "text": [
      "Epoch 1 Finished. Cost so far: 0.0\n",
      "Epoch 2 Progressing..., cost so far: 0.0\n"
     ]
    },
    {
     "name": "stderr",
     "output_type": "stream",
     "text": [
      "\n",
      "\u001b[A"
     ]
    },
    {
     "name": "stdout",
     "output_type": "stream",
     "text": [
      "Epoch 1 Finished. Cost so far: 0.0\n",
      "Epoch 2 Progressing..., cost so far: 0.0\n"
     ]
    },
    {
     "name": "stderr",
     "output_type": "stream",
     "text": [
      "\n",
      "\u001b[A"
     ]
    },
    {
     "name": "stdout",
     "output_type": "stream",
     "text": [
      "Epoch 2 Finished. Cost so far: 0.0\n",
      "Epoch 3 Progressing..., cost so far: 0.0\n"
     ]
    },
    {
     "name": "stderr",
     "output_type": "stream",
     "text": []
    },
    {
     "name": "stdout",
     "output_type": "stream",
     "text": [
      "Epoch 2 Finished. Cost so far: 0.0\n",
      "Epoch 3 Progressing..., cost so far: 0.0\n"
     ]
    },
    {
     "name": "stderr",
     "output_type": "stream",
     "text": []
    },
    {
     "name": "stdout",
     "output_type": "stream",
     "text": [
      "Epoch 3 Finished. Cost so far: 0.0\n",
      "Epoch 4 Progressing..., cost so far: 0.0\n"
     ]
    },
    {
     "name": "stderr",
     "output_type": "stream",
     "text": [
      "\n",
      "\u001b[A"
     ]
    },
    {
     "name": "stdout",
     "output_type": "stream",
     "text": [
      "Epoch 3 Finished. Cost so far: 0.0\n",
      "Epoch 4 Progressing..., cost so far: 0.0\n",
      "Epoch 4 Regressing..., cost so far: 0.0\n",
      "Epoch 4 Regressing..., cost so far: 0.0\n"
     ]
    },
    {
     "name": "stderr",
     "output_type": "stream",
     "text": [
      "Training: 100%|██████████| 5/5 [01:21<00:00, 16.22s/it]"
     ]
    },
    {
     "name": "stdout",
     "output_type": "stream",
     "text": [
      "Epoch 4 Finished. Cost so far: 0.0\n"
     ]
    },
    {
     "name": "stderr",
     "output_type": "stream",
     "text": [
      "\n",
      "\n",
      "Training: 100%|██████████| 5/5 [01:22<00:00, 16.47s/it]"
     ]
    },
    {
     "name": "stdout",
     "output_type": "stream",
     "text": [
      "Epoch 4 Finished. Cost so far: 0.0\n"
     ]
    },
    {
     "name": "stderr",
     "output_type": "stream",
     "text": [
      "\n"
     ]
    },
    {
     "name": "stdout",
     "output_type": "stream",
     "text": [
      "None\n",
      "None\n"
     ]
    }
   ],
   "source": [
    "for topic in tqdm(topics, desc='Topics'):\n",
    "    generative_method(meta,\n",
    "                    topic, \n",
    "                    evaluator=evaluator, \n",
    "                    student_models=models, \n",
    "                    epoch=int(epochs), \n",
    "                    card_format=card_format,\n",
    "                    max_worker=10)"
   ]
  },
  {
   "cell_type": "code",
   "execution_count": null,
   "metadata": {},
   "outputs": [],
   "source": []
  }
 ],
 "metadata": {
  "kernelspec": {
   "display_name": "LLM-eval",
   "language": "python",
   "name": "python3"
  },
  "language_info": {
   "codemirror_mode": {
    "name": "ipython",
    "version": 3
   },
   "file_extension": ".py",
   "mimetype": "text/x-python",
   "name": "python",
   "nbconvert_exporter": "python",
   "pygments_lexer": "ipython3",
   "version": "3.11.4"
  }
 },
 "nbformat": 4,
 "nbformat_minor": 2
}
