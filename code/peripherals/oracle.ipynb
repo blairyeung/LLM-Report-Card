{
 "cells": [
  {
   "cell_type": "code",
   "execution_count": 1,
   "metadata": {},
   "source": [
    "from oracle import *\n",
    "import os\n",
    "# append parent\n",
    "import sys\n",
    "sys.path.append('../')\n",
    "from config import *\n",
    "from core.util.data import *\n",
    "\n",
    "import os\n",
    "\n",
    "# Get the current working directory\n",
    "current_dir = os.getcwd()\n",
    "print(\"Current Directory:\", current_dir)\n",
    "\n",
    "# Change the current working directory to the parent directory\n",
    "parent_dir = os.path.dirname(current_dir)\n",
    "os.chdir(parent_dir)\n"
   ],
   "outputs": []
  },
  {
   "cell_type": "code",
   "execution_count": null,
   "metadata": {},
   "source": [
    "models = ALL_STUDENT_MODELS\n",
    "models = [m.split('/')[-1] for m in models]"
   ],
   "outputs": []
  },
  {
   "cell_type": "code",
   "execution_count": 3,
   "metadata": {},
   "source": [
    "agreement_mat = np.zeros((len(models), len(models)))\n",
    "accuracy = np.zeros((len(models), len(models)))\n",
    "meta = 'mmlu'\n",
    "topic = 'high_school_mathematics'\n",
    "\n",
    "for i in range(len(models)):\n",
    "    model1 = models[i]\n",
    "    batch1 = load_batches(f\"datasets/{meta}\", topic, model1, \"test\", [60], False)[0]\n",
    "    for j in range(len(models)):\n",
    "        model2 = models[j]\n",
    "        batch2 = load_batches(f\"datasets/{meta}\", topic, model2, \"test\", [60], False)[0]\n",
    "        oracle_accuracy, oracle_str, model_1_accuracy, model_2_accuracy, agreement = compute_baseline_accuracy(topic, [batch1, batch2], [model1, model2])\n",
    "        agreement_mat[i, j] = agreement\n",
    "        accuracy[i, j] = oracle_accuracy"
   ],
   "outputs": []
  },
  {
   "cell_type": "code",
   "execution_count": 2,
   "metadata": {},
   "source": [
    "# heat map\n",
    "import seaborn as sns\n",
    "import matplotlib.pyplot as plt\n",
    "\n",
    "fig, ax = plt.subplots(figsize=(8, 8))\n",
    "sns.heatmap(agreement_mat, annot=True, ax=ax, cmap='coolwarm')\n",
    "ax.set_xticklabels(models, rotation=90)\n",
    "ax.set_yticklabels(models, rotation=0)\n",
    "plt.show()\n"
   ],
   "outputs": []
  },
  {
   "cell_type": "markdown",
   "metadata": {},
   "source": []
  },
  {
   "cell_type": "code",
   "execution_count": 14,
   "metadata": {},
   "source": [
    "# heat map\n",
    "import seaborn as sns\n",
    "import matplotlib.pyplot as plt\n",
    "\n",
    "fig, ax = plt.subplots(figsize=(8, 8))\n",
    "sns.heatmap(accuracy, annot=True, ax=ax, cmap='coolwarm')\n",
    "ax.set_xticklabels(models, rotation=90)\n",
    "ax.set_yticklabels(models, rotation=0)\n",
    "plt.show()\n"
   ],
   "outputs": []
  },
  {
   "cell_type": "code",
   "execution_count": null,
   "metadata": {},
   "source": [],
   "outputs": []
  }
 ],
 "metadata": {
  "kernelspec": {
   "display_name": "LLM-eval",
   "language": "python",
   "name": "python3"
  },
  "language_info": {
   "codemirror_mode": {
    "name": "ipython",
    "version": 3
   },
   "file_extension": ".py",
   "mimetype": "text/x-python",
   "name": "python",
   "nbconvert_exporter": "python",
   "pygments_lexer": "ipython3",
   "version": "3.11.4"
  }
 },
 "nbformat": 4,
 "nbformat_minor": 2
}
