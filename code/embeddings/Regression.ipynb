{
 "cells": [
  {
   "cell_type": "code",
   "execution_count": 1,
   "metadata": {},
   "outputs": [],
   "source": [
    "import pandas as pd\n",
    "import numpy as np\n",
    "# knn and logistic regression\n",
    "from sklearn.neighbors import KNeighborsClassifier\n",
    "from sklearn.linear_model import LogisticRegression\n"
   ]
  },
  {
   "cell_type": "code",
   "execution_count": 2,
   "metadata": {},
   "outputs": [],
   "source": [
    "models = [\n",
    "    \"gpt-4o\",\n",
    "    \"Meta-Llama-3-8B-Instruct\",\n",
    "    \"Meta-Llama-3-70B-Instruct\",\n",
    "    \"Mistral-7B-Instruct-v0.2\",\n",
    "    \"Mixtral-8x7B-Instruct-v0.1\",\n",
    "]\n",
    "\n",
    "topic = 'high_school_physics'"
   ]
  },
  {
   "cell_type": "code",
   "execution_count": 3,
   "metadata": {},
   "outputs": [],
   "source": [
    "def load_embeddings(model, source='test'):\n",
    "    if source == 'test':\n",
    "        return np.load(f\"mmlu/{topic}/{model}-{source}.npy\")\n",
    "    return np.load(f\"mmlu/{topic}/{model}-{source}.npy\")"
   ]
  },
  {
   "cell_type": "code",
   "execution_count": 4,
   "metadata": {},
   "outputs": [],
   "source": [
    "def knn(pair):\n",
    "    train_data = (load_embeddings(pair[0], 'train'), load_embeddings(pair[1], 'train'))\n",
    "    test_data = (load_embeddings(pair[0], 'test'), load_embeddings(pair[1], 'test'))\n",
    "\n",
    "    # contrastive, train 0 is label 0, train 1 is label 1\n",
    "    X_train = np.concatenate([train_data[0], train_data[1]])\n",
    "    y_train = np.concatenate([np.zeros(train_data[0].shape[0]), np.ones(train_data[1].shape[0])])\n",
    "\n",
    "    knn = KNeighborsClassifier(n_neighbors=3)\n",
    "    knn.fit(X_train, y_train)\n",
    "\n",
    "    X_test = np.concatenate([test_data[0], test_data[1]])\n",
    "    y_test = np.concatenate([np.zeros(test_data[0].shape[0]), np.ones(test_data[1].shape[0])])\n",
    "\n",
    "    return knn.score(X_test, y_test)\n",
    "\n"
   ]
  },
  {
   "cell_type": "code",
   "execution_count": 5,
   "metadata": {},
   "outputs": [],
   "source": [
    "def logistic_regression(pair):\n",
    "    train_data = (load_embeddings(pair[0], 'train'), load_embeddings(pair[1], 'train'))\n",
    "    test_data = (load_embeddings(pair[0], 'test'), load_embeddings(pair[1], 'test'))\n",
    "\n",
    "    # contrastive, train 0 is label 0, train 1 is label 1\n",
    "    X_train = np.concatenate([train_data[0], train_data[1]])\n",
    "    y_train = np.concatenate([np.zeros(train_data[0].shape[0]), np.ones(train_data[1].shape[0])])\n",
    "\n",
    "    lr = LogisticRegression()\n",
    "    lr.fit(X_train, y_train)\n",
    "\n",
    "    X_test = np.concatenate([test_data[0], test_data[1]])\n",
    "    y_test = np.concatenate([np.zeros(test_data[0].shape[0]), np.ones(test_data[1].shape[0])])\n",
    "\n",
    "    return lr.score(X_test, y_test)\n",
    "\n"
   ]
  },
  {
   "cell_type": "code",
   "execution_count": 6,
   "metadata": {},
   "outputs": [],
   "source": [
    "all_topic_acc = {}\n",
    "accuracy_matrix = np.zeros((len(models), len(models)))\n",
    "log_reg_matrix = np.zeros((len(models), len(models)))\n",
    "topics = ['high_school_mathematics',\n",
    "          'high_school_physics',\n",
    "          'high_school_chemistry',\n",
    "          'machine_learning',\n",
    "          'gsm8k']\n",
    "\n",
    "for topic in topics:\n",
    "    all_topic_acc[topic] = []\n",
    "    rslt = []\n",
    "    for i in range(len(models)):\n",
    "        for j in range(len(models)):\n",
    "            model_1 = models[i]\n",
    "            model_2 = models[j]\n",
    "            if model_1 == model_2:\n",
    "                continue\n",
    "            pair = (model_1, model_2)\n",
    "            rslt.append({\n",
    "                'model_1': model_1,\n",
    "                'model_2': model_2,\n",
    "                'accuracy': knn(pair),\n",
    "                'method': 'knn',\n",
    "                'topic': topic,\n",
    "            })\n",
    "\n",
    "            rslt.append({\n",
    "                'model_1': model_1,\n",
    "                'model_2': model_2,\n",
    "                'accuracy': logistic_regression(pair),\n",
    "                'method': 'logistic_regression',\n",
    "                'topic': topic,\n",
    "            })\n",
    "\n",
    "    df = pd.DataFrame(rslt)\n",
    "    all_topic_acc[topic] = df"
   ]
  },
  {
   "cell_type": "code",
   "execution_count": 7,
   "metadata": {},
   "outputs": [],
   "source": [
    "# convert to dataframe\n",
    "all_topic_df = []\n",
    "for topic in topics:\n",
    "    all_topic_df.append(all_topic_acc[topic])\n",
    "\n",
    "all_topic_df = pd.concat(all_topic_df)"
   ]
  },
  {
   "cell_type": "code",
   "execution_count": 8,
   "metadata": {},
   "outputs": [
    {
     "data": {
      "text/html": [
       "<div>\n",
       "<style scoped>\n",
       "    .dataframe tbody tr th:only-of-type {\n",
       "        vertical-align: middle;\n",
       "    }\n",
       "\n",
       "    .dataframe tbody tr th {\n",
       "        vertical-align: top;\n",
       "    }\n",
       "\n",
       "    .dataframe thead th {\n",
       "        text-align: right;\n",
       "    }\n",
       "</style>\n",
       "<table border=\"1\" class=\"dataframe\">\n",
       "  <thead>\n",
       "    <tr style=\"text-align: right;\">\n",
       "      <th></th>\n",
       "      <th>model_1</th>\n",
       "      <th>model_2</th>\n",
       "      <th>accuracy</th>\n",
       "      <th>method</th>\n",
       "      <th>topic</th>\n",
       "    </tr>\n",
       "  </thead>\n",
       "  <tbody>\n",
       "    <tr>\n",
       "      <th>0</th>\n",
       "      <td>gpt-4o</td>\n",
       "      <td>Meta-Llama-3-8B-Instruct</td>\n",
       "      <td>0.741667</td>\n",
       "      <td>knn</td>\n",
       "      <td>high_school_mathematics</td>\n",
       "    </tr>\n",
       "    <tr>\n",
       "      <th>1</th>\n",
       "      <td>gpt-4o</td>\n",
       "      <td>Meta-Llama-3-8B-Instruct</td>\n",
       "      <td>0.891667</td>\n",
       "      <td>logistic_regression</td>\n",
       "      <td>high_school_mathematics</td>\n",
       "    </tr>\n",
       "    <tr>\n",
       "      <th>2</th>\n",
       "      <td>gpt-4o</td>\n",
       "      <td>Meta-Llama-3-70B-Instruct</td>\n",
       "      <td>0.791667</td>\n",
       "      <td>knn</td>\n",
       "      <td>high_school_mathematics</td>\n",
       "    </tr>\n",
       "    <tr>\n",
       "      <th>3</th>\n",
       "      <td>gpt-4o</td>\n",
       "      <td>Meta-Llama-3-70B-Instruct</td>\n",
       "      <td>0.933333</td>\n",
       "      <td>logistic_regression</td>\n",
       "      <td>high_school_mathematics</td>\n",
       "    </tr>\n",
       "    <tr>\n",
       "      <th>4</th>\n",
       "      <td>gpt-4o</td>\n",
       "      <td>Mistral-7B-Instruct-v0.2</td>\n",
       "      <td>0.666667</td>\n",
       "      <td>knn</td>\n",
       "      <td>high_school_mathematics</td>\n",
       "    </tr>\n",
       "  </tbody>\n",
       "</table>\n",
       "</div>"
      ],
      "text/plain": [
       "  model_1                    model_2  accuracy               method  \\\n",
       "0  gpt-4o   Meta-Llama-3-8B-Instruct  0.741667                  knn   \n",
       "1  gpt-4o   Meta-Llama-3-8B-Instruct  0.891667  logistic_regression   \n",
       "2  gpt-4o  Meta-Llama-3-70B-Instruct  0.791667                  knn   \n",
       "3  gpt-4o  Meta-Llama-3-70B-Instruct  0.933333  logistic_regression   \n",
       "4  gpt-4o   Mistral-7B-Instruct-v0.2  0.666667                  knn   \n",
       "\n",
       "                     topic  \n",
       "0  high_school_mathematics  \n",
       "1  high_school_mathematics  \n",
       "2  high_school_mathematics  \n",
       "3  high_school_mathematics  \n",
       "4  high_school_mathematics  "
      ]
     },
     "execution_count": 8,
     "metadata": {},
     "output_type": "execute_result"
    }
   ],
   "source": [
    "all_topic_df.head()"
   ]
  },
  {
   "cell_type": "code",
   "execution_count": 9,
   "metadata": {},
   "outputs": [],
   "source": [
    "# save to csv\n",
    "all_topic_df.to_csv('mmlu_results_no_paraphrase.csv', index=False)"
   ]
  },
  {
   "cell_type": "code",
   "execution_count": 10,
   "metadata": {},
   "outputs": [
    {
     "name": "stderr",
     "output_type": "stream",
     "text": [
      "/var/folders/78/7hfmr44j5njd1jd6sv9j23dc0000gn/T/ipykernel_24231/1773522920.py:3: FutureWarning: The default value of numeric_only in DataFrameGroupBy.mean is deprecated. In a future version, numeric_only will default to False. Either specify numeric_only or select only columns which should be valid for the function.\n",
      "  all_topic_df.groupby(['topic', 'method']).mean()\n"
     ]
    },
    {
     "data": {
      "text/html": [
       "<div>\n",
       "<style scoped>\n",
       "    .dataframe tbody tr th:only-of-type {\n",
       "        vertical-align: middle;\n",
       "    }\n",
       "\n",
       "    .dataframe tbody tr th {\n",
       "        vertical-align: top;\n",
       "    }\n",
       "\n",
       "    .dataframe thead th {\n",
       "        text-align: right;\n",
       "    }\n",
       "</style>\n",
       "<table border=\"1\" class=\"dataframe\">\n",
       "  <thead>\n",
       "    <tr style=\"text-align: right;\">\n",
       "      <th></th>\n",
       "      <th></th>\n",
       "      <th>accuracy</th>\n",
       "    </tr>\n",
       "    <tr>\n",
       "      <th>topic</th>\n",
       "      <th>method</th>\n",
       "      <th></th>\n",
       "    </tr>\n",
       "  </thead>\n",
       "  <tbody>\n",
       "    <tr>\n",
       "      <th rowspan=\"2\" valign=\"top\">gsm8k</th>\n",
       "      <th>knn</th>\n",
       "      <td>0.663333</td>\n",
       "    </tr>\n",
       "    <tr>\n",
       "      <th>logistic_regression</th>\n",
       "      <td>0.861667</td>\n",
       "    </tr>\n",
       "    <tr>\n",
       "      <th rowspan=\"2\" valign=\"top\">high_school_chemistry</th>\n",
       "      <th>knn</th>\n",
       "      <td>0.585833</td>\n",
       "    </tr>\n",
       "    <tr>\n",
       "      <th>logistic_regression</th>\n",
       "      <td>0.798333</td>\n",
       "    </tr>\n",
       "    <tr>\n",
       "      <th rowspan=\"2\" valign=\"top\">high_school_mathematics</th>\n",
       "      <th>knn</th>\n",
       "      <td>0.685000</td>\n",
       "    </tr>\n",
       "    <tr>\n",
       "      <th>logistic_regression</th>\n",
       "      <td>0.818333</td>\n",
       "    </tr>\n",
       "    <tr>\n",
       "      <th rowspan=\"2\" valign=\"top\">high_school_physics</th>\n",
       "      <th>knn</th>\n",
       "      <td>0.626667</td>\n",
       "    </tr>\n",
       "    <tr>\n",
       "      <th>logistic_regression</th>\n",
       "      <td>0.800000</td>\n",
       "    </tr>\n",
       "    <tr>\n",
       "      <th rowspan=\"2\" valign=\"top\">machine_learning</th>\n",
       "      <th>knn</th>\n",
       "      <td>0.655833</td>\n",
       "    </tr>\n",
       "    <tr>\n",
       "      <th>logistic_regression</th>\n",
       "      <td>0.821667</td>\n",
       "    </tr>\n",
       "  </tbody>\n",
       "</table>\n",
       "</div>"
      ],
      "text/plain": [
       "                                             accuracy\n",
       "topic                   method                       \n",
       "gsm8k                   knn                  0.663333\n",
       "                        logistic_regression  0.861667\n",
       "high_school_chemistry   knn                  0.585833\n",
       "                        logistic_regression  0.798333\n",
       "high_school_mathematics knn                  0.685000\n",
       "                        logistic_regression  0.818333\n",
       "high_school_physics     knn                  0.626667\n",
       "                        logistic_regression  0.800000\n",
       "machine_learning        knn                  0.655833\n",
       "                        logistic_regression  0.821667"
      ]
     },
     "execution_count": 10,
     "metadata": {},
     "output_type": "execute_result"
    }
   ],
   "source": [
    "# average across models\n",
    "\n",
    "all_topic_df.groupby(['topic', 'method']).mean()\n"
   ]
  },
  {
   "cell_type": "code",
   "execution_count": 11,
   "metadata": {},
   "outputs": [
    {
     "data": {
      "image/png": "[encoded data removed]",
      "text/plain": [
       "<Figure size 1000x600 with 1 Axes>"
      ]
     },
     "metadata": {},
     "output_type": "display_data"
    }
   ],
   "source": [
    "# bar plot\n",
    "import matplotlib.pyplot as plt\n",
    "import seaborn as sns\n",
    "\n",
    "sns.set_theme(style=\"whitegrid\")\n",
    "plt.figure(figsize=(10, 6))\n",
    "sns.barplot(x='topic', y='accuracy', hue='method', data=all_topic_df)\n",
    "plt.title('Accuracy by topic and method')\n",
    "plt.show()"
   ]
  },
  {
   "cell_type": "code",
   "execution_count": null,
   "metadata": {},
   "outputs": [],
   "source": []
  }
 ],
 "metadata": {
  "kernelspec": {
   "display_name": "LLM-eval",
   "language": "python",
   "name": "python3"
  },
  "language_info": {
   "codemirror_mode": {
    "name": "ipython",
    "version": 3
   },
   "file_extension": ".py",
   "mimetype": "text/x-python",
   "name": "python",
   "nbconvert_exporter": "python",
   "pygments_lexer": "ipython3",
   "version": "3.11.4"
  }
 },
 "nbformat": 4,
 "nbformat_minor": 2
}
