{
 "cells": [
  {
   "cell_type": "code",
   "execution_count": null,
   "metadata": {},
   "outputs": [],
   "source": [
    "from eval_everything import pred_eval\n",
    "import os\n",
    "from tqdm.notebook import tqdm, trange \n",
    "import time"
   ]
  },
  {
   "cell_type": "code",
   "execution_count": null,
   "metadata": {},
   "outputs": [],
   "source": [
    "def change_dir():\n",
    "    # Get the current working directory\n",
    "    current_dir = os.getcwd()\n",
    "    print(\"Current Directory:\", current_dir)\n",
    "\n",
    "    # Change the current working directory to the parent directory\n",
    "    parent_dir = os.path.dirname(current_dir)\n",
    "    os.chdir(parent_dir)"
   ]
  },
  {
   "cell_type": "code",
   "execution_count": null,
   "metadata": {},
   "outputs": [],
   "source": [
    "def run_experiment(meta, topic, model, format='bullet_point', guesser='llama'):\n",
    "    eval_params = {\n",
    "        'meta': meta,\n",
    "        'topic': topic,\n",
    "        'source_topic': topic,\n",
    "        'card_format': format,\n",
    "        'epoch': 4,\n",
    "        'cot': False,\n",
    "        'baseline': 'card',\n",
    "        'evaluator': 'gpt',\n",
    "        'model': model,\n",
    "        'optim_method': 'prog-reg',\n",
    "        'folder': 'latest',\n",
    "        'prior_info': False,\n",
    "        'eval_method': 'all',\n",
    "        'guesser': guesser,\n",
    "        'generation_method': 'generative',\n",
    "        'eval_type': 'predictive',\n",
    "        'rebalance_testset': 0.25,\n",
    "        'method': 'predictive'\n",
    "    }\n",
    "        \n",
    "    pred_eval(eval_params=eval_params)"
   ]
  },
  {
   "cell_type": "markdown",
   "metadata": {},
   "source": [
    "# Hyperparams"
   ]
  },
  {
   "cell_type": "code",
   "execution_count": null,
   "metadata": {},
   "outputs": [],
   "source": [
    "meta = 'mmlu'\n",
    "topics = ['high_school_mathematics',\n",
    "          'high_school_physics',\n",
    "          'high_school_chemistry',\n",
    "          'high_school_biology',\n",
    "          'machine_learning',\n",
    "          'college_mathematics',\n",
    "          'high_school_world_history',]\n",
    "\n",
    "\n",
    "models = [\n",
    "    \"gpt-4o\",\n",
    "    'claude-3-opus-20240229',\n",
    "    \"gpt-4-turbo\",\n",
    "    \"Meta-Llama-3-70B-Instruct\",\n",
    "    \"gpt-3.5-turbo\",\n",
    "    \"Meta-Llama-3-8B-Instruct\",\n",
    "    \"Mixtral-8x7B-Instruct-v0.1\",\n",
    "    \"Mistral-7B-Instruct-v0.2\",\n",
    "    \"gemma-1.1-7b-it\",\n",
    "]"
   ]
  },
  {
   "cell_type": "code",
   "execution_count": null,
   "metadata": {},
   "outputs": [],
   "source": [
    "change_dir()"
   ]
  },
  {
   "cell_type": "code",
   "execution_count": null,
   "metadata": {},
   "outputs": [],
   "source": [
    "for model in tqdm(models):\n",
    "    for topic in tqdm(topics):\n",
    "        file_path = 'exp_rslt/Predictive_mmlu_claude_arxiv.csv'\n",
    "        # see if the entry is in Student_Model,Topic\n",
    "        found = False\n",
    "        if os.path.exists(file_path):\n",
    "            with open(file_path, 'r') as file:\n",
    "                lines = file.readlines()\n",
    "                for line in lines:\n",
    "                    if f'{model},{topic}' in line:\n",
    "                        print(f\"skipping {model} {topic}\")\n",
    "                        found = True\n",
    "                        continue\n",
    "\n",
    "        if found:\n",
    "            continue\n",
    "\n",
    "        run_experiment(meta, topic, format=\"bullet_point\", model=model, guesser='llama')\n",
    "        time.sleep(5)"
   ]
  },
  {
   "cell_type": "code",
   "execution_count": null,
   "metadata": {},
   "outputs": [],
   "source": []
  },
  {
   "cell_type": "code",
   "execution_count": null,
   "metadata": {},
   "outputs": [],
   "source": []
  }
 ],
 "metadata": {
  "kernelspec": {
   "display_name": "LLM-eval",
   "language": "python",
   "name": "python3"
  },
  "language_info": {
   "codemirror_mode": {
    "name": "ipython",
    "version": 3
   },
   "file_extension": ".py",
   "mimetype": "text/x-python",
   "name": "python",
   "nbconvert_exporter": "python",
   "pygments_lexer": "ipython3",
   "version": "3.11.4"
  }
 },
 "nbformat": 4,
 "nbformat_minor": 2
}
