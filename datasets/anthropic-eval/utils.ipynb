{
 "cells": [
  {
   "cell_type": "code",
   "source": [
    "import jsonlines\n",
    "import random\n",
    "\n",
    "topics = [\n",
    "    'corrigible-less-HHH',\n",
    "    'myopic-reward',\n",
    "    'power-seeking-inclination',\n",
    "    'self-awareness-general-ai',\n",
    "    'survival-instinct'\n",
    "]\n",
    "\n",
    "models = [\n",
    "    'Mistral-7B-Instruct-v0.2',\n",
    "    'Llama-2-13b-chat-hf'\n",
    "]\n",
    "\n",
    "for topic in topics:\n",
    "    raw_path = f\"_raw/{topic}.jsonl\"\n",
    "    with jsonlines.open(raw_path) as reader:\n",
    "        raw_lines = list(reader)\n",
    "    random.shuffle(raw_lines)\n",
    "    partitions = {\n",
    "        \"train\": raw_lines[:100],\n",
    "        \"test\": raw_lines[100:]\n",
    "    }\n",
    "    for model in models:\n",
    "        for partition in partitions:\n",
    "            raw_lines = partitions[partition]\n",
    "            lines = [{\n",
    "                \"question\": line[\"question\"],\n",
    "                \"answer_matching_behavior\": line[\"answer_matching_behavior\"],\n",
    "                \"answer_not_matching_behavior\": line[\"answer_not_matching_behavior\"],\n",
    "                model: {\n",
    "                    \"answer\": line[\"models\"][model][\"answer\"],\n",
    "                    \"reasoning\": line[\"models\"][model][\"reasoning\"]\n",
    "                }\n",
    "            } for line in raw_lines]\n",
    "            with jsonlines.open(f\"{topic}/{model}-{partition}.jsonl\", \"w\") as writer:\n",
    "                writer.write_all(lines)"
   ],
   "metadata": {
    "collapsed": false,
    "ExecuteTime": {
     "end_time": "2024-03-11T23:43:52.303995Z",
     "start_time": "2024-03-11T23:43:52.064417Z"
    }
   },
   "id": "ae108aa737315c4c",
   "execution_count": 1,
   "outputs": []
  },
  {
   "cell_type": "code",
   "source": [
    "import jsonlines\n",
    "\n",
    "from data import *\n",
    "\n",
    "topics = [\n",
    "    'corrigible-less-HHH',\n",
    "    'myopic-reward',\n",
    "    'power-seeking-inclination',\n",
    "    'self-awareness-general-ai',\n",
    "    'survival-instinct'\n",
    "]\n",
    "\n",
    "models = [\n",
    "    'Mistral-7B-Instruct-v0.2',\n",
    "    'Llama-2-13b-chat-hf'\n",
    "]"
   ],
   "metadata": {
    "collapsed": false,
    "ExecuteTime": {
     "end_time": "2024-01-28T03:20:46.937386200Z",
     "start_time": "2024-01-28T03:20:43.643115900Z"
    }
   },
   "id": "a141174886830517",
   "execution_count": 1,
   "outputs": []
  },
  {
   "cell_type": "code",
   "execution_count": 3,
   "id": "initial_id",
   "metadata": {
    "collapsed": true,
    "ExecuteTime": {
     "end_time": "2024-01-28T03:21:01.718505600Z",
     "start_time": "2024-01-28T03:21:01.656289800Z"
    }
   },
   "source": [
    "# get accuracies\n",
    "for topic in topics:\n",
    "    print(topic)\n",
    "    for model in models:\n",
    "        b = load_anthropic_batches('../datasets/anthropic-eval', topic, [100, 100, 40], target_model=model)[1]\n",
    "        print(f'\\t{model}, accuracy: {b.get_accuracy()}, oracle: {b.get_oracle()}')"
   ],
   "outputs": []
  },
  {
   "cell_type": "code",
   "source": [
    "# reformat datasets: make choices integers\n",
    "choices = [' (A)', ' (B)', ' (C)', ' (D)', ' (E)']\n",
    "\n",
    "for topic in topics:\n",
    "    # collect all files with extension .jsonl\n",
    "    files = [f for f in os.listdir(topic) if f.endswith('.jsonl')]\n",
    "    paths = [os.path.join(topic, f) for f in files]\n",
    "    for path in paths:\n",
    "        with jsonlines.open(path) as reader:\n",
    "            lines = [line for line in reader]\n",
    "        for json_obj in lines:\n",
    "            assert json_obj['answer_matching_behavior'] in choices\n",
    "            assert json_obj['answer_not_matching_behavior'] in choices"
   ],
   "metadata": {
    "collapsed": false
   },
   "id": "3fe080817d304940",
   "execution_count": null,
   "outputs": []
  },
  {
   "cell_type": "code",
   "source": [
    "# transform datasets (anthropic-eval)\n",
    "\n",
    "import jsonlines\n",
    "import os\n",
    "import random\n",
    "\n",
    "dataset_path = '../datasets/anthropic-eval'\n",
    "files = [f for f in os.listdir(dataset_path) if f.endswith('.jsonl')]\n",
    "for f in files:\n",
    "    topic = f[:-6]\n",
    "    # print(topic)\n",
    "    # create folder for each topic\n",
    "    topic_path = os.path.join(dataset_path, topic)\n",
    "    os.makedirs(topic_path, exist_ok=True)\n",
    "    with jsonlines.open(os.path.join(dataset_path, f), 'r') as lines:\n",
    "        raw = [(obj['question'], obj['answer_matching_behavior'],\n",
    "                obj['answer_not_matching_behavior'], obj['models']) for obj in\n",
    "               lines]\n",
    "    for model in raw[0][3]:\n",
    "        # print(model)\n",
    "        n = len(raw)\n",
    "        model_raw = [(r[0], r[1], r[2], r[3][model]) for r in raw]\n",
    "        correct_raw = [r for r in model_raw if r[1] == r[3]['answer']]\n",
    "        wrong_raw = [r for r in model_raw if r[1] != r[3]['answer']]\n",
    "        # split correct_raw by ratio\n",
    "        ratio = 0.4\n",
    "        correct_train = correct_raw[:int(len(correct_raw) * ratio)]\n",
    "        correct_test = correct_raw[int(len(correct_raw) * ratio):]\n",
    "        # split wrong_raw by ratio\n",
    "        wrong_train = wrong_raw[:int(len(wrong_raw) * ratio)]\n",
    "        wrong_test = wrong_raw[int(len(wrong_raw) * ratio):]\n",
    "        train = correct_train + wrong_train\n",
    "        test = correct_test + wrong_test\n",
    "        random.shuffle(train)\n",
    "        random.shuffle(test)\n",
    "        # balance the number of entries of train and test\n",
    "        while len(train) < ratio * n:\n",
    "            train.append(test.pop())\n",
    "        while len(test) < (1 - ratio) * n:\n",
    "            test.append(train.pop())\n",
    "        with jsonlines.open(\n",
    "                os.path.join(topic_path, f'{topic}_{model}_train.jsonl'),\n",
    "                'w') as writer:\n",
    "            new_lines = [{\n",
    "                'question'                    : r[0],\n",
    "                'answer_matching_behavior'    : r[1],\n",
    "                'answer_not_matching_behavior': r[2],\n",
    "                model                         : r[3]\n",
    "            } for r in train]\n",
    "            writer.write_all(new_lines)\n",
    "        with jsonlines.open(\n",
    "                os.path.join(topic_path, f'{topic}_{model}_test.jsonl'),\n",
    "                'w') as writer:\n",
    "            new_lines = [{\n",
    "                'question'                    : r[0],\n",
    "                'answer_matching_behavior'    : r[1],\n",
    "                'answer_not_matching_behavior': r[2],\n",
    "                model                         : r[3]\n",
    "            } for r in test]\n",
    "            writer.write_all(new_lines)"
   ],
   "metadata": {
    "collapsed": false
   },
   "id": "cdd3ee40e4312096",
   "execution_count": null,
   "outputs": []
  }
 ],
 "metadata": {
  "kernelspec": {
   "display_name": "Python 3",
   "language": "python",
   "name": "python3"
  },
  "language_info": {
   "codemirror_mode": {
    "name": "ipython",
    "version": 2
   },
   "file_extension": ".py",
   "mimetype": "text/x-python",
   "name": "python",
   "nbconvert_exporter": "python",
   "pygments_lexer": "ipython2",
   "version": "2.7.6"
  }
 },
 "nbformat": 4,
 "nbformat_minor": 5
}
